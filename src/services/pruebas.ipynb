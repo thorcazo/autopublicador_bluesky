{
 "cells": [
  {
   "cell_type": "code",
   "execution_count": 8,
   "metadata": {},
   "outputs": [
    {
     "name": "stdout",
     "output_type": "stream",
     "text": [
      "263\n",
      "Tiene 250. Se puede publicar\n"
     ]
    }
   ],
   "source": [
    "post = \"Utilizo ChatGPT para desarrollar y eso, no es nigun problema, es una ventaja. Por ejemplo, generar guias con ChatGPT una vez resuelto el problema. Solo tengo que que pedirle: 'Crea una guia paso a paso del problema resuelto'. Después lo guardo en Notion y listo!.\"\n",
    "\n",
    "post2 = \"Uso ChatGPT para aprender y resolver problemas. Una de mis prácticas favoritas es pedirle que cree una guía paso a paso tras solucionar un problema en mi proyecto. Así tengo un recurso para consultar en el futuro. Luego lo guardo en Notion, ¡y listo!\"\n",
    "\n",
    "print(len(post))\n",
    "\n",
    "if len(post2) >= 300:\n",
    "    print(f\"Tiene {len(post2)}. No puede ser publicado\")\n",
    "else:\n",
    "    print(f\"Tiene {len(post2)}. Se puede publicar\")\n",
    "\n",
    "\n",
    "\n",
    "\n"
   ]
  }
 ],
 "metadata": {
  "kernelspec": {
   "display_name": "base",
   "language": "python",
   "name": "python3"
  },
  "language_info": {
   "codemirror_mode": {
    "name": "ipython",
    "version": 3
   },
   "file_extension": ".py",
   "mimetype": "text/x-python",
   "name": "python",
   "nbconvert_exporter": "python",
   "pygments_lexer": "ipython3",
   "version": "3.12.7"
  }
 },
 "nbformat": 4,
 "nbformat_minor": 2
}
